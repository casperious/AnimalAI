{
 "cells": [
  {
   "cell_type": "code",
   "execution_count": 14,
   "id": "3dfb6cbc",
   "metadata": {},
   "outputs": [
    {
     "name": "stdout",
     "output_type": "stream",
     "text": [
      "Output saved to: out_02-18 21:48.txt\n"
     ]
    }
   ],
   "source": [
    "!python3 main_full.py"
   ]
  },
  {
   "cell_type": "code",
   "execution_count": null,
   "id": "5f8a1cf7",
   "metadata": {},
   "outputs": [],
   "source": [
    "# Calls main_full.py which runs the model trained on all animals (single MSQNet node)"
   ]
  }
 ],
 "metadata": {
  "kernelspec": {
   "display_name": "Python 3 (ipykernel)",
   "language": "python",
   "name": "python3"
  },
  "language_info": {
   "codemirror_mode": {
    "name": "ipython",
    "version": 3
   },
   "file_extension": ".py",
   "mimetype": "text/x-python",
   "name": "python",
   "nbconvert_exporter": "python",
   "pygments_lexer": "ipython3",
   "version": "3.8.13"
  }
 },
 "nbformat": 4,
 "nbformat_minor": 5
}
