{
 "cells": [
  {
   "cell_type": "code",
   "execution_count": 12,
   "id": "ab4bb390",
   "metadata": {},
   "outputs": [
    {
     "name": "stdout",
     "output_type": "stream",
     "text": [
      "Split Main has finished!\n"
     ]
    }
   ],
   "source": [
    "!python3 main_split.py"
   ]
  },
  {
   "cell_type": "code",
   "execution_count": null,
   "id": "3c85d004",
   "metadata": {},
   "outputs": [],
   "source": [
    "# Calls main_split.py which will run the model on each subset of Animal Types. (7x MSQNet nodes)"
   ]
  }
 ],
 "metadata": {
  "kernelspec": {
   "display_name": "Python 3 (ipykernel)",
   "language": "python",
   "name": "python3"
  },
  "language_info": {
   "codemirror_mode": {
    "name": "ipython",
    "version": 3
   },
   "file_extension": ".py",
   "mimetype": "text/x-python",
   "name": "python",
   "nbconvert_exporter": "python",
   "pygments_lexer": "ipython3",
   "version": "3.8.13"
  }
 },
 "nbformat": 4,
 "nbformat_minor": 5
}
